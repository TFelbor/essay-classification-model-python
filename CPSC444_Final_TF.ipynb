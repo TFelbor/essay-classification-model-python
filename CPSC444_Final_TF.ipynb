{
  "nbformat": 4,
  "nbformat_minor": 0,
  "metadata": {
    "colab": {
      "provenance": [],
      "collapsed_sections": [
        "yPGVwUuKO213",
        "xzaKp_aUQFZl"
      ],
      "gpuType": "T4"
    },
    "kernelspec": {
      "name": "python3",
      "display_name": "Python 3"
    },
    "language_info": {
      "name": "python"
    },
    "accelerator": "GPU"
  },
  "cells": [
    {
      "cell_type": "markdown",
      "source": [
        "# **Essay Classification Problem: Is it student-written or LLM-generated?**"
      ],
      "metadata": {
        "id": "9WFxSJJGlCRw"
      }
    },
    {
      "cell_type": "markdown",
      "source": [
        "## Step 1: Setup & Data Loading\n",
        "\n",
        "### The plan is to load the dataset ( train_essays.csv ) and to prepare the environment in Colab.\n",
        "1. *Set up TensorFlow, scikit-learn, and imbalanced-learn for modeling and oversampling. Then download GloVe embeddings for text processing.*\n",
        "2. *The dataset for each essay, provides contents and labels ( 0 for student-written, 1 for LLM-generated ). Load it using pandas DataFrame & inspect the class distribution to confirm the imbalance.*\n",
        "3. *Colab’s free tier provides a GPU/TPU, which we’ll leverage to speed up the training process. We must manage memory carefully however, due to the ~12 GB RAM limit.*"
      ],
      "metadata": {
        "id": "ffvhF_VSMfwS"
      }
    },
    {
      "cell_type": "code",
      "execution_count": null,
      "metadata": {
        "colab": {
          "base_uri": "https://localhost:8080/"
        },
        "id": "UjpgHVURnjg1",
        "outputId": "5a5169b7-302b-4711-ecba-e814cbe06e29"
      },
      "outputs": [
        {
          "output_type": "stream",
          "name": "stdout",
          "text": [
            "Class distribution prior to oversampling:\n",
            "generated\n",
            "0    1375\n",
            "1       3\n",
            "Name: count, dtype: int64\n"
          ]
        },
        {
          "output_type": "stream",
          "name": "stderr",
          "text": [
            "[nltk_data] Downloading package punkt to /root/nltk_data...\n",
            "[nltk_data]   Package punkt is already up-to-date!\n",
            "[nltk_data] Downloading package punkt_tab to /root/nltk_data...\n",
            "[nltk_data]   Package punkt_tab is already up-to-date!\n"
          ]
        }
      ],
      "source": [
        "# Import the neccessary libraries\n",
        "import pandas as pd\n",
        "import numpy as np\n",
        "import tensorflow as tf\n",
        "from sklearn.model_selection import train_test_split\n",
        "from sklearn.metrics import f1_score, accuracy_score\n",
        "from imblearn.over_sampling import RandomOverSampler\n",
        "import nltk\n",
        "from nltk.tokenize import word_tokenize\n",
        "import requests\n",
        "import zipfile\n",
        "import os\n",
        "\n",
        "'''\n",
        "Download NLTK data for tokenization process, since it's better suited for text\n",
        "processing. It's less scalable than the tokenizer Tensorlow offers, but seems\n",
        "a better fit for our purposes.\n",
        "'''\n",
        "nltk.download('punkt')\n",
        "# Specific tokenizer model required in our Colab's Python environment\n",
        "nltk.download('punkt_tab')\n",
        "\n",
        "# Enable GPU ( manually enable via Runtime > Change runtime type > GPU T4 )\n",
        "physical_devices = tf.config.list_physical_devices('GPU')\n",
        "if physical_devices:\n",
        "    tf.config.experimental.set_memory_growth(physical_devices[0], True)\n",
        "\n",
        "# Load the training data\n",
        "train_df = pd.read_csv('/content/data/train_essays.csv')\n",
        "print(\"Class distribution prior to oversampling:\")\n",
        "# Check for imbalance\n",
        "print(train_df['generated'].value_counts())\n",
        "\n",
        "# Download GloVe embeddings ( 100D, should not exceed 400 MB )\n",
        "glove_url = 'http://nlp.stanford.edu/data/glove.6B.zip'\n",
        "glove_path = '/content/glove.6B.100d.txt'\n",
        "if not os.path.exists(glove_path):\n",
        "    print(\"Downloading the GloVe embeddings...\")\n",
        "    r = requests.get(glove_url)\n",
        "    with open('/content/glove.6B.zip', 'wb') as f:\n",
        "        f.write(r.content)\n",
        "    with zipfile.ZipFile('/content/glove.6B.zip', 'r') as zip_ref:\n",
        "        zip_ref.extractall('/content')"
      ]
    },
    {
      "cell_type": "markdown",
      "source": [
        "## Implementation Breakdown\n",
        "- **Libraries:** *TensorFlow for the ANN implementation, scikit-learn for training metrics, imbalanced-learn for managing oversampling, NLTK for word tokenization, and pandas for handling data structures.*\n",
        "- **GloVe Download:** *We use specifically GloVe 100D embeddings (~400 MB and manageable in Colab environment) in order to convert words into vectors. The file is downloaded only if not already present to save time & space.*\n",
        "- **Class Distribution:** *We check generated counts to confirm the existing imbalance, helping our oversampling strategy.*\n",
        "- **GPU Setup:** *Enables memory growth and prevents TensorFlow from reserving all GPU memory, therefore reducing the crashes in the Colab environment.*"
      ],
      "metadata": {
        "id": "vLxJCOVjN-lO"
      }
    },
    {
      "cell_type": "markdown",
      "source": [
        "## Step 2: Text Preprocessing and GloVe Text Embedding\n",
        "\n",
        "### The plan is to tokenize essays ( or rather the words that compose them ), and convert those words into GloVe 100D embeddings. Then, averaging the embeddings will allows us to have a 100D vector created per each essay.\n",
        "1. **Tokenization:** *Essays are raw text, so we split them into words ( our tokens ) using NLTK’s word_tokenize to prepare for embedding.*\n",
        "2. **GloVe Embeddings:** *We load the GloVe 100D file into a dictionary mapping\n",
        "the words to 100D vectors. Each essay’s tokens are then converted into vectors, so that finally we can average them & create a fixed-length 100D embeddings, which will later serve as the input for our ANN.*\n",
        "3. **Fixed Weights:** *Using GloVe embeddings as fixed weights allows for reduction on parameters. Doing so, enables a faster training and doesn't exhaust the Colab’s computational constraints.*\n",
        "4. **Averaging:** *Averaging the embeddings simplifies our essays of varied length into a single vector.*"
      ],
      "metadata": {
        "id": "ppocIbtsMqDX"
      }
    },
    {
      "cell_type": "code",
      "source": [
        "# Load GloVe embeddings into a dictionary\n",
        "def load_glove_embeddings(glove_file):\n",
        "    embeddings = {}\n",
        "    with open(glove_file, 'r', encoding='utf-8') as f:\n",
        "        for line in f:\n",
        "            values = line.split()\n",
        "            word = values[0]\n",
        "            vector = np.array(values[1:], dtype='float32')\n",
        "            embeddings[word] = vector\n",
        "    return embeddings\n",
        "\n",
        "glove_embeddings = load_glove_embeddings(glove_path)\n",
        "print(f\"Loaded {len(glove_embeddings)} GloVe embeddings.\")\n",
        "\n",
        "# Tokenize and convert essays to averaged GloVe embeddings\n",
        "def text_to_embedding(text, embeddings, embedding_dim=100):\n",
        "    # Lowercase for consistency\n",
        "    tokens = word_tokenize(text.lower())\n",
        "    valid_embeddings = [embeddings.get(token, np.zeros(embedding_dim)) for token in tokens\n",
        "                        if token in embeddings]\n",
        "    # Handle empty or OOV cases\n",
        "    if not valid_embeddings:\n",
        "        return np.zeros(embedding_dim)\n",
        "    return np.mean(valid_embeddings, axis=0)\n",
        "\n",
        "# Apply to training data\n",
        "X = np.array([text_to_embedding(text, glove_embeddings) for text in train_df['text']])\n",
        "y = train_df['generated'].values\n",
        "print(f\"Input shape: {X.shape}, Labels shape: {y.shape}\")"
      ],
      "metadata": {
        "colab": {
          "base_uri": "https://localhost:8080/"
        },
        "id": "m1-2ytfCNlyd",
        "outputId": "58e8615a-f572-4e22-8407-9037ac366fb2"
      },
      "execution_count": null,
      "outputs": [
        {
          "output_type": "stream",
          "name": "stdout",
          "text": [
            "Loaded 400000 GloVe embeddings.\n",
            "Input shape: (1378, 100), Labels shape: (1378,)\n"
          ]
        }
      ]
    },
    {
      "cell_type": "markdown",
      "source": [
        "## Implementation Breakdown\n",
        "- **GloVe Loading:** *The dictionary maps words to 100D vectors, with ~400,000 words in GloVe 6B, covering most essay vocabulary.*\n",
        "- **Tokenization:** *Lowercasing ensures consistency. NLTK’s tokenizer handles punctuation and complex words.*\n",
        "- **Averaging Embeddings:** *Averaging captures the essay’s overall meaning, suitable for our simple ANN. Out-of-vocabulary ( OOV ) words get zero vectors, which is rare given GloVe’s large vocabulary.*\n",
        "- **Output:** *X is a matrix of shape ( n_samples, 100 ), where n_samples is ~10,000, and y is a vector of labels ( 0 or 1 ).*"
      ],
      "metadata": {
        "id": "Hw771FHwOeTr"
      }
    },
    {
      "cell_type": "markdown",
      "source": [
        "## Step 3: Random Oversampling\n",
        "### The plan is to apply random oversampling & achieve partial balance ( ~4,000 LLM-generated vs. 9,500 student-written ).\n",
        "1. *We need to set up TensorFlow, scikit-learn, and imbalanced-learn for modeling and oversampling, and download GloVe embeddings for text processing.*\n",
        "2. *The dataset contains essay texts and labels ( 0 for student-written, 1 for LLM-generated ). We’ll load it into a pandas DataFrame to inspect the class distribution and confirm the imbalance.*\n",
        "3. *Colab’s free tier provides a GPU/TPU, which we’ll enable to speed up training, but we must manage memory carefully due to the ~12 GB RAM limit.*"
      ],
      "metadata": {
        "id": "yPGVwUuKO213"
      }
    },
    {
      "cell_type": "code",
      "source": [
        "# Apply random oversampling. ( ~4,000 LLM / 9,500 student = 0.421 )\n",
        "ros = RandomOverSampler(sampling_strategy=0.421, random_state=42)\n",
        "X_resampled, y_resampled = ros.fit_resample(X, y)\n",
        "\n",
        "print(\"Class distribution after oversampling:\")\n",
        "print(pd.Series(y_resampled).value_counts())\n",
        "print(f\"Resampled input shape: {X_resampled.shape}\")"
      ],
      "metadata": {
        "colab": {
          "base_uri": "https://localhost:8080/"
        },
        "id": "-gxOw01UO2gv",
        "outputId": "73431895-baf8-479b-a42c-6337b8dc4aec"
      },
      "execution_count": null,
      "outputs": [
        {
          "output_type": "stream",
          "name": "stdout",
          "text": [
            "Class distribution after oversampling:\n",
            "0    1375\n",
            "1     578\n",
            "Name: count, dtype: int64\n",
            "Resampled input shape: (1953, 100)\n"
          ]
        }
      ]
    },
    {
      "cell_type": "markdown",
      "source": [
        "## Implementation Breakdown\n",
        "- **Sampling Strategy:** *The ratio 0.421 ( ~4,000 / 9,500 ) achieves partial balance, reducing duplication compared to full balance ( ~9,500 / 9,500 ).*\n",
        "- **Random State:** *Setting random_state = 42 ensures reproducibility in our report. As long as this value stays constant, the randomness will not change our results.*\n",
        "- **Output:** *X_resampled and y_resampled have ~13,500 samples. Totaling ~4,000 LLM-generated & ~9,500 student-written.*"
      ],
      "metadata": {
        "id": "21dtZiccPy-Y"
      }
    },
    {
      "cell_type": "markdown",
      "source": [
        "## Step 4: Data Splitting\n",
        "### The plan is to split the oversampled data into two sets. One for training ( 80% ) and second for validation ( 20% ) purposes.\n",
        "1. *The validation set will allow us to evaluate hyperparameter performance and monitor overfitting without involving the test set.*\n",
        "2. *An 80:20 split ( ~10,800 for training, and ~2,700 for validation ) balances the availability of training data with validation.*\n",
        "3. *The process of stratification ensures the class distribution is preserved correctly across both sets.*"
      ],
      "metadata": {
        "id": "xzaKp_aUQFZl"
      }
    },
    {
      "cell_type": "code",
      "source": [
        "# Split data into training and validation sets\n",
        "X_train, X_val, y_train, y_val = train_test_split(X_resampled, y_resampled,\n",
        "                                                  test_size=0.2, stratify=y_resampled,\n",
        "                                                  random_state=42)\n",
        "print(f\"Training shape: {X_train.shape}, Validation shape: {X_val.shape}\")"
      ],
      "metadata": {
        "colab": {
          "base_uri": "https://localhost:8080/"
        },
        "id": "yqlqzFBLQdHn",
        "outputId": "40cf7068-fca2-42fb-d971-74661c984643"
      },
      "execution_count": null,
      "outputs": [
        {
          "output_type": "stream",
          "name": "stdout",
          "text": [
            "Training shape: (1562, 100), Validation shape: (391, 100)\n"
          ]
        }
      ]
    },
    {
      "cell_type": "markdown",
      "source": [
        "## Implementation Breakdown\n",
        "- **Stratification:** *The process maintains the oversampled class ratio (~30% LLM-generated) in both sets, doing so it ensures a fair evaluation of F1-score.*\n",
        "- **Random State:** *Ensures the necessary repetetiveness of events while operating with randomness.*\n",
        "- **Output:** *~10,800 training samples & ~2,700 validation samples, each 100D vectors*"
      ],
      "metadata": {
        "id": "WfE-PwJLQfIi"
      }
    },
    {
      "cell_type": "markdown",
      "source": [
        "## Step 5: Build the ANN\n",
        "### The plan is to implement our ANN architecture using TensorFlow\n",
        "1. *The ANN takes a 100D input (our averaged GloVe embedding), and applies a 64-node hidden layer with ReLU activation, uses an appropriate dropout value, in regards to the dataset size, (0.2) for regularization, and finally outputs a probability in our sigmoid layer.*\n",
        "2. *Binary cross-entropy loss is a standard for binary classification, and the Adam optimizer proves efficient for tasks involving text.*\n",
        "3. *The small size (~6,500 parameters) ensures efficient training in our Colab environment.*"
      ],
      "metadata": {
        "id": "S8ElBDeZQ0dK"
      }
    },
    {
      "cell_type": "code",
      "source": [
        "# Build ANN with TensorFlow\n",
        "def build_model(learning_rate=0.001, dropout_rate=0.2):\n",
        "    model = tf.keras.Sequential([\n",
        "        # 100D GloVe vector\n",
        "        tf.keras.layers.Input(shape=(100,)),\n",
        "        # Hidden layer\n",
        "        tf.keras.layers.Dense(64, activation='relu'),\n",
        "        # Regularization\n",
        "        tf.keras.layers.Dropout(dropout_rate),\n",
        "        # Output probability\n",
        "        tf.keras.layers.Dense(1, activation='sigmoid')\n",
        "    ])\n",
        "    model.compile(optimizer=tf.keras.optimizers.Adam(learning_rate=learning_rate),\n",
        "                  loss='binary_crossentropy',\n",
        "                  # Accuracy for monitoring\n",
        "                  metrics=['accuracy'])\n",
        "    return model\n",
        "\n",
        "# Initial model with default hyperparameters\n",
        "model = build_model(learning_rate=0.001, dropout_rate=0.2)\n",
        "# Display architecture and parameters\n",
        "model.summary()"
      ],
      "metadata": {
        "colab": {
          "base_uri": "https://localhost:8080/",
          "height": 332
        },
        "id": "qQy9FDaLRLUv",
        "outputId": "2c568f1b-68f3-4f52-a548-a561eaa26b43"
      },
      "execution_count": 1,
      "outputs": [
        {
          "output_type": "error",
          "ename": "NameError",
          "evalue": "name 'tf' is not defined",
          "traceback": [
            "\u001b[0;31m---------------------------------------------------------------------------\u001b[0m",
            "\u001b[0;31mNameError\u001b[0m                                 Traceback (most recent call last)",
            "\u001b[0;32m<ipython-input-1-62eca770c2ad>\u001b[0m in \u001b[0;36m<cell line: 0>\u001b[0;34m()\u001b[0m\n\u001b[1;32m     18\u001b[0m \u001b[0;34m\u001b[0m\u001b[0m\n\u001b[1;32m     19\u001b[0m \u001b[0;31m# Initial model with default hyperparameters\u001b[0m\u001b[0;34m\u001b[0m\u001b[0;34m\u001b[0m\u001b[0m\n\u001b[0;32m---> 20\u001b[0;31m \u001b[0mmodel\u001b[0m \u001b[0;34m=\u001b[0m \u001b[0mbuild_model\u001b[0m\u001b[0;34m(\u001b[0m\u001b[0mlearning_rate\u001b[0m\u001b[0;34m=\u001b[0m\u001b[0;36m0.001\u001b[0m\u001b[0;34m,\u001b[0m \u001b[0mdropout_rate\u001b[0m\u001b[0;34m=\u001b[0m\u001b[0;36m0.2\u001b[0m\u001b[0;34m)\u001b[0m\u001b[0;34m\u001b[0m\u001b[0;34m\u001b[0m\u001b[0m\n\u001b[0m\u001b[1;32m     21\u001b[0m \u001b[0;31m# Display architecture and parameters\u001b[0m\u001b[0;34m\u001b[0m\u001b[0;34m\u001b[0m\u001b[0m\n\u001b[1;32m     22\u001b[0m \u001b[0mmodel\u001b[0m\u001b[0;34m.\u001b[0m\u001b[0msummary\u001b[0m\u001b[0;34m(\u001b[0m\u001b[0;34m)\u001b[0m\u001b[0;34m\u001b[0m\u001b[0;34m\u001b[0m\u001b[0m\n",
            "\u001b[0;32m<ipython-input-1-62eca770c2ad>\u001b[0m in \u001b[0;36mbuild_model\u001b[0;34m(learning_rate, dropout_rate)\u001b[0m\n\u001b[1;32m      1\u001b[0m \u001b[0;31m# Build ANN with TensorFlow\u001b[0m\u001b[0;34m\u001b[0m\u001b[0;34m\u001b[0m\u001b[0m\n\u001b[1;32m      2\u001b[0m \u001b[0;32mdef\u001b[0m \u001b[0mbuild_model\u001b[0m\u001b[0;34m(\u001b[0m\u001b[0mlearning_rate\u001b[0m\u001b[0;34m=\u001b[0m\u001b[0;36m0.001\u001b[0m\u001b[0;34m,\u001b[0m \u001b[0mdropout_rate\u001b[0m\u001b[0;34m=\u001b[0m\u001b[0;36m0.2\u001b[0m\u001b[0;34m)\u001b[0m\u001b[0;34m:\u001b[0m\u001b[0;34m\u001b[0m\u001b[0;34m\u001b[0m\u001b[0m\n\u001b[0;32m----> 3\u001b[0;31m     model = tf.keras.Sequential([\n\u001b[0m\u001b[1;32m      4\u001b[0m         \u001b[0;31m# 100D GloVe vector\u001b[0m\u001b[0;34m\u001b[0m\u001b[0;34m\u001b[0m\u001b[0m\n\u001b[1;32m      5\u001b[0m         \u001b[0mtf\u001b[0m\u001b[0;34m.\u001b[0m\u001b[0mkeras\u001b[0m\u001b[0;34m.\u001b[0m\u001b[0mlayers\u001b[0m\u001b[0;34m.\u001b[0m\u001b[0mInput\u001b[0m\u001b[0;34m(\u001b[0m\u001b[0mshape\u001b[0m\u001b[0;34m=\u001b[0m\u001b[0;34m(\u001b[0m\u001b[0;36m100\u001b[0m\u001b[0;34m,\u001b[0m\u001b[0;34m)\u001b[0m\u001b[0;34m)\u001b[0m\u001b[0;34m,\u001b[0m\u001b[0;34m\u001b[0m\u001b[0;34m\u001b[0m\u001b[0m\n",
            "\u001b[0;31mNameError\u001b[0m: name 'tf' is not defined"
          ]
        }
      ]
    },
    {
      "cell_type": "markdown",
      "source": [
        "## Implementation Breakdown\n",
        "- **ANN Architecture:** *64 nodes, dropout = 0.2, ReLU, sigmoid*\n",
        "- **Error Loss:** *Binary cross-entropy suits binary classification, fitting our sigmoid function output.*\n",
        "- **Metrics:** *Accuracy included for monitoring/debugging, but the F1-score is computeed solely and separately using predictions.*\n",
        "- **Parameters:** *~6,500 (100 × 64 + 64 + 64 × 1 + 1) is small, and good enough of a fit for our Colab environment*"
      ],
      "metadata": {
        "id": "E2gCRkuoRThg"
      }
    },
    {
      "cell_type": "markdown",
      "source": [
        "## Step 6: Manual Hyperparameter Tuning\n",
        "### The plan is to train the ANN with 3–5 hyperparameter combinations, with focus on optimizing our F1-score.\n",
        "1. *We start with default settings (learning rate 0.001, batch size 32, dropout 0.2) and use early stopping to quit after no improvement observed, aiming at prevention of overtraining & wasting the limited computational resources.*\n",
        "2. *We test adjustments based on the performance. Select the combination with the highest validation F1-score.*\n",
        "3. *Early stopping (patience=3) ensures computational efficiency by stopping if F1-score doesn’t improve for 3 epochs. Training capped at 20 epochs.*"
      ],
      "metadata": {
        "id": "PPlGb5i7RyzX"
      }
    },
    {
      "cell_type": "code",
      "source": [
        "# Implement early stopping mechanism\n",
        "early_stopping = tf.keras.callbacks.EarlyStopping(\n",
        "    monitor='val_loss', patience=3, restore_best_weights=True\n",
        ")\n",
        "\n",
        "# Function that computes the F1-score\n",
        "def compute_metrics(model, X, y):\n",
        "    y_pred = (model.predict(X) > 0.5).astype(int)\n",
        "    f1 = f1_score(y, y_pred)\n",
        "    acc = accuracy_score(y, y_pred)\n",
        "    return f1, acc\n",
        "\n",
        "# Different hyperparameter combinations to test for best\n",
        "hyperparams = [\n",
        "    # Default\n",
        "    {'learning_rate': 0.001, 'batch_size': 32, 'dropout_rate': 0.2},\n",
        "    # Slower learning\n",
        "    {'learning_rate': 0.0001, 'batch_size': 32, 'dropout_rate': 0.2},\n",
        "    # Bigger batch\n",
        "    {'learning_rate': 0.001, 'batch_size': 64, 'dropout_rate': 0.2},\n",
        "    # Bigger dropout\n",
        "    {'learning_rate': 0.001, 'batch_size': 32, 'dropout_rate': 0.3},\n",
        "]\n",
        "\n",
        "# Manual tuning\n",
        "best_f1 = 0\n",
        "best_params = None\n",
        "best_model = None\n",
        "\n",
        "for params in hyperparams:\n",
        "    print(f\"Testing: {params}\")\n",
        "    model = build_model(learning_rate=params['learning_rate'],\n",
        "                        dropout_rate=params['dropout_rate'])\n",
        "    history = model.fit(X_train, y_train,\n",
        "                        batch_size=params['batch_size'],\n",
        "                        epochs=20,\n",
        "                        validation_data=(X_val, y_val),\n",
        "                        callbacks=[early_stopping],\n",
        "                        verbose=1)\n",
        "    # Compute validation metrics\n",
        "    val_f1, val_acc = compute_metrics(model, X_val, y_val)\n",
        "    print(f\"Validation F1-Score: {val_f1:.3f}, Accuracy: {val_acc:.3f}\")\n",
        "\n",
        "    if val_f1 > best_f1:\n",
        "        best_f1 = val_f1\n",
        "        best_params = params\n",
        "        best_model = model\n",
        "\n",
        "print(f\"Best hyperparameters: {best_params}\")\n",
        "print(f\"Best Validation F1-Score: {best_f1:.3f}\")"
      ],
      "metadata": {
        "colab": {
          "base_uri": "https://localhost:8080/"
        },
        "id": "8BG1dco0SL22",
        "outputId": "2f10da94-1e87-4ec9-fa82-9f1a864fcdc3"
      },
      "execution_count": null,
      "outputs": [
        {
          "output_type": "stream",
          "name": "stdout",
          "text": [
            "Testing: {'learning_rate': 0.001, 'batch_size': 32, 'dropout_rate': 0.2}\n",
            "Epoch 1/20\n",
            "\u001b[1m49/49\u001b[0m \u001b[32m━━━━━━━━━━━━━━━━━━━━\u001b[0m\u001b[37m\u001b[0m \u001b[1m3s\u001b[0m 27ms/step - accuracy: 0.5982 - loss: 0.6507 - val_accuracy: 0.7033 - val_loss: 0.5515\n",
            "Epoch 2/20\n",
            "\u001b[1m49/49\u001b[0m \u001b[32m━━━━━━━━━━━━━━━━━━━━\u001b[0m\u001b[37m\u001b[0m \u001b[1m0s\u001b[0m 4ms/step - accuracy: 0.7194 - loss: 0.5315 - val_accuracy: 0.7033 - val_loss: 0.4821\n",
            "Epoch 3/20\n",
            "\u001b[1m49/49\u001b[0m \u001b[32m━━━━━━━━━━━━━━━━━━━━\u001b[0m\u001b[37m\u001b[0m \u001b[1m0s\u001b[0m 4ms/step - accuracy: 0.7437 - loss: 0.4835 - val_accuracy: 0.7928 - val_loss: 0.4130\n",
            "Epoch 4/20\n",
            "\u001b[1m49/49\u001b[0m \u001b[32m━━━━━━━━━━━━━━━━━━━━\u001b[0m\u001b[37m\u001b[0m \u001b[1m0s\u001b[0m 4ms/step - accuracy: 0.8374 - loss: 0.4007 - val_accuracy: 0.9054 - val_loss: 0.3371\n",
            "Epoch 5/20\n",
            "\u001b[1m49/49\u001b[0m \u001b[32m━━━━━━━━━━━━━━━━━━━━\u001b[0m\u001b[37m\u001b[0m \u001b[1m0s\u001b[0m 4ms/step - accuracy: 0.9077 - loss: 0.3235 - val_accuracy: 0.9847 - val_loss: 0.2711\n",
            "Epoch 6/20\n",
            "\u001b[1m49/49\u001b[0m \u001b[32m━━━━━━━━━━━━━━━━━━━━\u001b[0m\u001b[37m\u001b[0m \u001b[1m0s\u001b[0m 4ms/step - accuracy: 0.9657 - loss: 0.2657 - val_accuracy: 0.9949 - val_loss: 0.2151\n",
            "Epoch 7/20\n",
            "\u001b[1m49/49\u001b[0m \u001b[32m━━━━━━━━━━━━━━━━━━━━\u001b[0m\u001b[37m\u001b[0m \u001b[1m0s\u001b[0m 4ms/step - accuracy: 0.9796 - loss: 0.2230 - val_accuracy: 0.9872 - val_loss: 0.1700\n",
            "Epoch 8/20\n",
            "\u001b[1m49/49\u001b[0m \u001b[32m━━━━━━━━━━━━━━━━━━━━\u001b[0m\u001b[37m\u001b[0m \u001b[1m0s\u001b[0m 4ms/step - accuracy: 0.9890 - loss: 0.1682 - val_accuracy: 0.9872 - val_loss: 0.1375\n",
            "Epoch 9/20\n",
            "\u001b[1m49/49\u001b[0m \u001b[32m━━━━━━━━━━━━━━━━━━━━\u001b[0m\u001b[37m\u001b[0m \u001b[1m0s\u001b[0m 5ms/step - accuracy: 0.9879 - loss: 0.1388 - val_accuracy: 0.9949 - val_loss: 0.1164\n",
            "Epoch 10/20\n",
            "\u001b[1m49/49\u001b[0m \u001b[32m━━━━━━━━━━━━━━━━━━━━\u001b[0m\u001b[37m\u001b[0m \u001b[1m0s\u001b[0m 6ms/step - accuracy: 0.9916 - loss: 0.1212 - val_accuracy: 0.9847 - val_loss: 0.0983\n",
            "Epoch 11/20\n",
            "\u001b[1m49/49\u001b[0m \u001b[32m━━━━━━━━━━━━━━━━━━━━\u001b[0m\u001b[37m\u001b[0m \u001b[1m0s\u001b[0m 6ms/step - accuracy: 0.9949 - loss: 0.0999 - val_accuracy: 0.9872 - val_loss: 0.0827\n",
            "Epoch 12/20\n",
            "\u001b[1m49/49\u001b[0m \u001b[32m━━━━━━━━━━━━━━━━━━━━\u001b[0m\u001b[37m\u001b[0m \u001b[1m1s\u001b[0m 7ms/step - accuracy: 0.9956 - loss: 0.0823 - val_accuracy: 0.9872 - val_loss: 0.0723\n",
            "Epoch 13/20\n",
            "\u001b[1m49/49\u001b[0m \u001b[32m━━━━━━━━━━━━━━━━━━━━\u001b[0m\u001b[37m\u001b[0m \u001b[1m1s\u001b[0m 5ms/step - accuracy: 0.9975 - loss: 0.0669 - val_accuracy: 0.9949 - val_loss: 0.0630\n",
            "Epoch 14/20\n",
            "\u001b[1m49/49\u001b[0m \u001b[32m━━━━━━━━━━━━━━━━━━━━\u001b[0m\u001b[37m\u001b[0m \u001b[1m0s\u001b[0m 6ms/step - accuracy: 0.9924 - loss: 0.0625 - val_accuracy: 0.9949 - val_loss: 0.0561\n",
            "Epoch 15/20\n",
            "\u001b[1m49/49\u001b[0m \u001b[32m━━━━━━━━━━━━━━━━━━━━\u001b[0m\u001b[37m\u001b[0m \u001b[1m1s\u001b[0m 8ms/step - accuracy: 0.9897 - loss: 0.0684 - val_accuracy: 0.9949 - val_loss: 0.0507\n",
            "Epoch 16/20\n",
            "\u001b[1m49/49\u001b[0m \u001b[32m━━━━━━━━━━━━━━━━━━━━\u001b[0m\u001b[37m\u001b[0m \u001b[1m0s\u001b[0m 6ms/step - accuracy: 0.9964 - loss: 0.0475 - val_accuracy: 0.9949 - val_loss: 0.0461\n",
            "Epoch 17/20\n",
            "\u001b[1m49/49\u001b[0m \u001b[32m━━━━━━━━━━━━━━━━━━━━\u001b[0m\u001b[37m\u001b[0m \u001b[1m1s\u001b[0m 8ms/step - accuracy: 0.9952 - loss: 0.0408 - val_accuracy: 0.9949 - val_loss: 0.0448\n",
            "Epoch 18/20\n",
            "\u001b[1m49/49\u001b[0m \u001b[32m━━━━━━━━━━━━━━━━━━━━\u001b[0m\u001b[37m\u001b[0m \u001b[1m0s\u001b[0m 7ms/step - accuracy: 0.9968 - loss: 0.0401 - val_accuracy: 0.9949 - val_loss: 0.0386\n",
            "Epoch 19/20\n",
            "\u001b[1m49/49\u001b[0m \u001b[32m━━━━━━━━━━━━━━━━━━━━\u001b[0m\u001b[37m\u001b[0m \u001b[1m0s\u001b[0m 5ms/step - accuracy: 0.9962 - loss: 0.0380 - val_accuracy: 0.9898 - val_loss: 0.0381\n",
            "Epoch 20/20\n",
            "\u001b[1m49/49\u001b[0m \u001b[32m━━━━━━━━━━━━━━━━━━━━\u001b[0m\u001b[37m\u001b[0m \u001b[1m0s\u001b[0m 8ms/step - accuracy: 0.9956 - loss: 0.0337 - val_accuracy: 0.9949 - val_loss: 0.0332\n",
            "\u001b[1m13/13\u001b[0m \u001b[32m━━━━━━━━━━━━━━━━━━━━\u001b[0m\u001b[37m\u001b[0m \u001b[1m0s\u001b[0m 14ms/step\n",
            "Validation F1-Score: 0.991, Accuracy: 0.995\n",
            "Testing: {'learning_rate': 0.0001, 'batch_size': 32, 'dropout_rate': 0.2}\n",
            "Epoch 1/20\n",
            "\u001b[1m49/49\u001b[0m \u001b[32m━━━━━━━━━━━━━━━━━━━━\u001b[0m\u001b[37m\u001b[0m \u001b[1m4s\u001b[0m 26ms/step - accuracy: 0.6804 - loss: 0.6355 - val_accuracy: 0.7033 - val_loss: 0.6010\n",
            "Epoch 2/20\n",
            "\u001b[1m49/49\u001b[0m \u001b[32m━━━━━━━━━━━━━━━━━━━━\u001b[0m\u001b[37m\u001b[0m \u001b[1m0s\u001b[0m 4ms/step - accuracy: 0.7101 - loss: 0.6009 - val_accuracy: 0.7033 - val_loss: 0.5844\n",
            "Epoch 3/20\n",
            "\u001b[1m49/49\u001b[0m \u001b[32m━━━━━━━━━━━━━━━━━━━━\u001b[0m\u001b[37m\u001b[0m \u001b[1m0s\u001b[0m 4ms/step - accuracy: 0.6960 - loss: 0.5928 - val_accuracy: 0.7033 - val_loss: 0.5752\n",
            "Epoch 4/20\n",
            "\u001b[1m49/49\u001b[0m \u001b[32m━━━━━━━━━━━━━━━━━━━━\u001b[0m\u001b[37m\u001b[0m \u001b[1m0s\u001b[0m 5ms/step - accuracy: 0.7031 - loss: 0.5769 - val_accuracy: 0.7033 - val_loss: 0.5668\n",
            "Epoch 5/20\n",
            "\u001b[1m49/49\u001b[0m \u001b[32m━━━━━━━━━━━━━━━━━━━━\u001b[0m\u001b[37m\u001b[0m \u001b[1m0s\u001b[0m 4ms/step - accuracy: 0.7008 - loss: 0.5756 - val_accuracy: 0.7033 - val_loss: 0.5579\n",
            "Epoch 6/20\n",
            "\u001b[1m49/49\u001b[0m \u001b[32m━━━━━━━━━━━━━━━━━━━━\u001b[0m\u001b[37m\u001b[0m \u001b[1m0s\u001b[0m 4ms/step - accuracy: 0.7081 - loss: 0.5531 - val_accuracy: 0.7033 - val_loss: 0.5491\n",
            "Epoch 7/20\n",
            "\u001b[1m49/49\u001b[0m \u001b[32m━━━━━━━━━━━━━━━━━━━━\u001b[0m\u001b[37m\u001b[0m \u001b[1m0s\u001b[0m 4ms/step - accuracy: 0.7038 - loss: 0.5591 - val_accuracy: 0.7033 - val_loss: 0.5405\n",
            "Epoch 8/20\n",
            "\u001b[1m49/49\u001b[0m \u001b[32m━━━━━━━━━━━━━━━━━━━━\u001b[0m\u001b[37m\u001b[0m \u001b[1m0s\u001b[0m 4ms/step - accuracy: 0.7105 - loss: 0.5397 - val_accuracy: 0.7033 - val_loss: 0.5318\n",
            "Epoch 9/20\n",
            "\u001b[1m49/49\u001b[0m \u001b[32m━━━━━━━━━━━━━━━━━━━━\u001b[0m\u001b[37m\u001b[0m \u001b[1m0s\u001b[0m 4ms/step - accuracy: 0.7037 - loss: 0.5390 - val_accuracy: 0.7033 - val_loss: 0.5231\n",
            "Epoch 10/20\n",
            "\u001b[1m49/49\u001b[0m \u001b[32m━━━━━━━━━━━━━━━━━━━━\u001b[0m\u001b[37m\u001b[0m \u001b[1m0s\u001b[0m 4ms/step - accuracy: 0.7137 - loss: 0.5223 - val_accuracy: 0.7033 - val_loss: 0.5141\n",
            "Epoch 11/20\n",
            "\u001b[1m49/49\u001b[0m \u001b[32m━━━━━━━━━━━━━━━━━━━━\u001b[0m\u001b[37m\u001b[0m \u001b[1m0s\u001b[0m 4ms/step - accuracy: 0.6968 - loss: 0.5349 - val_accuracy: 0.7033 - val_loss: 0.5045\n",
            "Epoch 12/20\n",
            "\u001b[1m49/49\u001b[0m \u001b[32m━━━━━━━━━━━━━━━━━━━━\u001b[0m\u001b[37m\u001b[0m \u001b[1m0s\u001b[0m 4ms/step - accuracy: 0.7136 - loss: 0.5190 - val_accuracy: 0.7033 - val_loss: 0.4954\n",
            "Epoch 13/20\n",
            "\u001b[1m49/49\u001b[0m \u001b[32m━━━━━━━━━━━━━━━━━━━━\u001b[0m\u001b[37m\u001b[0m \u001b[1m0s\u001b[0m 4ms/step - accuracy: 0.7212 - loss: 0.5006 - val_accuracy: 0.7033 - val_loss: 0.4865\n",
            "Epoch 14/20\n",
            "\u001b[1m49/49\u001b[0m \u001b[32m━━━━━━━━━━━━━━━━━━━━\u001b[0m\u001b[37m\u001b[0m \u001b[1m0s\u001b[0m 4ms/step - accuracy: 0.7334 - loss: 0.4935 - val_accuracy: 0.7033 - val_loss: 0.4775\n",
            "Epoch 15/20\n",
            "\u001b[1m49/49\u001b[0m \u001b[32m━━━━━━━━━━━━━━━━━━━━\u001b[0m\u001b[37m\u001b[0m \u001b[1m0s\u001b[0m 4ms/step - accuracy: 0.7642 - loss: 0.4759 - val_accuracy: 0.7033 - val_loss: 0.4686\n",
            "Epoch 16/20\n",
            "\u001b[1m49/49\u001b[0m \u001b[32m━━━━━━━━━━━━━━━━━━━━\u001b[0m\u001b[37m\u001b[0m \u001b[1m0s\u001b[0m 5ms/step - accuracy: 0.7601 - loss: 0.4864 - val_accuracy: 0.7033 - val_loss: 0.4596\n",
            "Epoch 17/20\n",
            "\u001b[1m49/49\u001b[0m \u001b[32m━━━━━━━━━━━━━━━━━━━━\u001b[0m\u001b[37m\u001b[0m \u001b[1m0s\u001b[0m 4ms/step - accuracy: 0.7709 - loss: 0.4691 - val_accuracy: 0.7033 - val_loss: 0.4508\n",
            "Epoch 18/20\n",
            "\u001b[1m49/49\u001b[0m \u001b[32m━━━━━━━━━━━━━━━━━━━━\u001b[0m\u001b[37m\u001b[0m \u001b[1m0s\u001b[0m 4ms/step - accuracy: 0.8034 - loss: 0.4578 - val_accuracy: 0.9105 - val_loss: 0.4419\n",
            "Epoch 19/20\n",
            "\u001b[1m49/49\u001b[0m \u001b[32m━━━━━━━━━━━━━━━━━━━━\u001b[0m\u001b[37m\u001b[0m \u001b[1m0s\u001b[0m 4ms/step - accuracy: 0.8088 - loss: 0.4484 - val_accuracy: 0.9105 - val_loss: 0.4330\n",
            "Epoch 20/20\n",
            "\u001b[1m49/49\u001b[0m \u001b[32m━━━━━━━━━━━━━━━━━━━━\u001b[0m\u001b[37m\u001b[0m \u001b[1m0s\u001b[0m 5ms/step - accuracy: 0.8301 - loss: 0.4522 - val_accuracy: 0.9105 - val_loss: 0.4241\n",
            "\u001b[1m13/13\u001b[0m \u001b[32m━━━━━━━━━━━━━━━━━━━━\u001b[0m\u001b[37m\u001b[0m \u001b[1m0s\u001b[0m 11ms/step\n",
            "Validation F1-Score: 0.822, Accuracy: 0.910\n",
            "Testing: {'learning_rate': 0.001, 'batch_size': 64, 'dropout_rate': 0.2}\n",
            "Epoch 1/20\n",
            "\u001b[1m25/25\u001b[0m \u001b[32m━━━━━━━━━━━━━━━━━━━━\u001b[0m\u001b[37m\u001b[0m \u001b[1m3s\u001b[0m 51ms/step - accuracy: 0.6781 - loss: 0.6218 - val_accuracy: 0.7033 - val_loss: 0.5466\n",
            "Epoch 2/20\n",
            "\u001b[1m25/25\u001b[0m \u001b[32m━━━━━━━━━━━━━━━━━━━━\u001b[0m\u001b[37m\u001b[0m \u001b[1m1s\u001b[0m 8ms/step - accuracy: 0.6975 - loss: 0.5484 - val_accuracy: 0.7033 - val_loss: 0.4966\n",
            "Epoch 3/20\n",
            "\u001b[1m25/25\u001b[0m \u001b[32m━━━━━━━━━━━━━━━━━━━━\u001b[0m\u001b[37m\u001b[0m \u001b[1m0s\u001b[0m 9ms/step - accuracy: 0.7297 - loss: 0.4992 - val_accuracy: 0.7033 - val_loss: 0.4456\n",
            "Epoch 4/20\n",
            "\u001b[1m25/25\u001b[0m \u001b[32m━━━━━━━━━━━━━━━━━━━━\u001b[0m\u001b[37m\u001b[0m \u001b[1m0s\u001b[0m 8ms/step - accuracy: 0.8096 - loss: 0.4586 - val_accuracy: 0.9105 - val_loss: 0.3973\n",
            "Epoch 5/20\n",
            "\u001b[1m25/25\u001b[0m \u001b[32m━━━━━━━━━━━━━━━━━━━━\u001b[0m\u001b[37m\u001b[0m \u001b[1m0s\u001b[0m 8ms/step - accuracy: 0.8554 - loss: 0.3987 - val_accuracy: 0.9054 - val_loss: 0.3512\n",
            "Epoch 6/20\n",
            "\u001b[1m25/25\u001b[0m \u001b[32m━━━━━━━━━━━━━━━━━━━━\u001b[0m\u001b[37m\u001b[0m \u001b[1m0s\u001b[0m 8ms/step - accuracy: 0.8872 - loss: 0.3568 - val_accuracy: 0.9079 - val_loss: 0.3127\n",
            "Epoch 7/20\n",
            "\u001b[1m25/25\u001b[0m \u001b[32m━━━━━━━━━━━━━━━━━━━━\u001b[0m\u001b[37m\u001b[0m \u001b[1m0s\u001b[0m 8ms/step - accuracy: 0.8998 - loss: 0.3082 - val_accuracy: 0.9054 - val_loss: 0.2699\n",
            "Epoch 8/20\n",
            "\u001b[1m25/25\u001b[0m \u001b[32m━━━━━━━━━━━━━━━━━━━━\u001b[0m\u001b[37m\u001b[0m \u001b[1m0s\u001b[0m 8ms/step - accuracy: 0.9304 - loss: 0.2670 - val_accuracy: 0.9847 - val_loss: 0.2343\n",
            "Epoch 9/20\n",
            "\u001b[1m25/25\u001b[0m \u001b[32m━━━━━━━━━━━━━━━━━━━━\u001b[0m\u001b[37m\u001b[0m \u001b[1m0s\u001b[0m 9ms/step - accuracy: 0.9854 - loss: 0.2414 - val_accuracy: 0.9898 - val_loss: 0.1997\n",
            "Epoch 10/20\n",
            "\u001b[1m25/25\u001b[0m \u001b[32m━━━━━━━━━━━━━━━━━━━━\u001b[0m\u001b[37m\u001b[0m \u001b[1m0s\u001b[0m 9ms/step - accuracy: 0.9825 - loss: 0.2107 - val_accuracy: 0.9923 - val_loss: 0.1739\n",
            "Epoch 11/20\n",
            "\u001b[1m25/25\u001b[0m \u001b[32m━━━━━━━━━━━━━━━━━━━━\u001b[0m\u001b[37m\u001b[0m \u001b[1m0s\u001b[0m 8ms/step - accuracy: 0.9942 - loss: 0.1759 - val_accuracy: 0.9898 - val_loss: 0.1519\n",
            "Epoch 12/20\n",
            "\u001b[1m25/25\u001b[0m \u001b[32m━━━━━━━━━━━━━━━━━━━━\u001b[0m\u001b[37m\u001b[0m \u001b[1m0s\u001b[0m 9ms/step - accuracy: 0.9863 - loss: 0.1678 - val_accuracy: 0.9872 - val_loss: 0.1339\n",
            "Epoch 13/20\n",
            "\u001b[1m25/25\u001b[0m \u001b[32m━━━━━━━━━━━━━━━━━━━━\u001b[0m\u001b[37m\u001b[0m \u001b[1m0s\u001b[0m 8ms/step - accuracy: 0.9956 - loss: 0.1318 - val_accuracy: 0.9872 - val_loss: 0.1180\n",
            "Epoch 14/20\n",
            "\u001b[1m25/25\u001b[0m \u001b[32m━━━━━━━━━━━━━━━━━━━━\u001b[0m\u001b[37m\u001b[0m \u001b[1m0s\u001b[0m 12ms/step - accuracy: 0.9930 - loss: 0.1205 - val_accuracy: 0.9923 - val_loss: 0.1060\n",
            "Epoch 15/20\n",
            "\u001b[1m25/25\u001b[0m \u001b[32m━━━━━━━━━━━━━━━━━━━━\u001b[0m\u001b[37m\u001b[0m \u001b[1m1s\u001b[0m 8ms/step - accuracy: 0.9925 - loss: 0.1024 - val_accuracy: 0.9872 - val_loss: 0.0963\n",
            "Epoch 16/20\n",
            "\u001b[1m25/25\u001b[0m \u001b[32m━━━━━━━━━━━━━━━━━━━━\u001b[0m\u001b[37m\u001b[0m \u001b[1m0s\u001b[0m 5ms/step - accuracy: 0.9905 - loss: 0.0987 - val_accuracy: 0.9872 - val_loss: 0.0874\n",
            "Epoch 17/20\n",
            "\u001b[1m25/25\u001b[0m \u001b[32m━━━━━━━━━━━━━━━━━━━━\u001b[0m\u001b[37m\u001b[0m \u001b[1m0s\u001b[0m 6ms/step - accuracy: 0.9901 - loss: 0.0872 - val_accuracy: 0.9898 - val_loss: 0.0788\n",
            "Epoch 18/20\n",
            "\u001b[1m25/25\u001b[0m \u001b[32m━━━━━━━━━━━━━━━━━━━━\u001b[0m\u001b[37m\u001b[0m \u001b[1m0s\u001b[0m 5ms/step - accuracy: 0.9936 - loss: 0.0778 - val_accuracy: 0.9872 - val_loss: 0.0730\n",
            "Epoch 19/20\n",
            "\u001b[1m25/25\u001b[0m \u001b[32m━━━━━━━━━━━━━━━━━━━━\u001b[0m\u001b[37m\u001b[0m \u001b[1m0s\u001b[0m 7ms/step - accuracy: 0.9944 - loss: 0.0719 - val_accuracy: 0.9872 - val_loss: 0.0683\n",
            "Epoch 20/20\n",
            "\u001b[1m25/25\u001b[0m \u001b[32m━━━━━━━━━━━━━━━━━━━━\u001b[0m\u001b[37m\u001b[0m \u001b[1m0s\u001b[0m 5ms/step - accuracy: 0.9943 - loss: 0.0652 - val_accuracy: 0.9923 - val_loss: 0.0619\n",
            "\u001b[1m13/13\u001b[0m \u001b[32m━━━━━━━━━━━━━━━━━━━━\u001b[0m\u001b[37m\u001b[0m \u001b[1m0s\u001b[0m 10ms/step\n",
            "Validation F1-Score: 0.987, Accuracy: 0.992\n",
            "Testing: {'learning_rate': 0.001, 'batch_size': 32, 'dropout_rate': 0.3}\n",
            "Epoch 1/20\n",
            "\u001b[1m49/49\u001b[0m \u001b[32m━━━━━━━━━━━━━━━━━━━━\u001b[0m\u001b[37m\u001b[0m \u001b[1m3s\u001b[0m 28ms/step - accuracy: 0.6829 - loss: 0.6131 - val_accuracy: 0.7033 - val_loss: 0.5297\n",
            "Epoch 2/20\n",
            "\u001b[1m49/49\u001b[0m \u001b[32m━━━━━━━━━━━━━━━━━━━━\u001b[0m\u001b[37m\u001b[0m \u001b[1m0s\u001b[0m 4ms/step - accuracy: 0.7186 - loss: 0.5272 - val_accuracy: 0.7033 - val_loss: 0.4494\n",
            "Epoch 3/20\n",
            "\u001b[1m49/49\u001b[0m \u001b[32m━━━━━━━━━━━━━━━━━━━━\u001b[0m\u001b[37m\u001b[0m \u001b[1m0s\u001b[0m 4ms/step - accuracy: 0.8017 - loss: 0.4456 - val_accuracy: 0.9079 - val_loss: 0.3717\n",
            "Epoch 4/20\n",
            "\u001b[1m49/49\u001b[0m \u001b[32m━━━━━━━━━━━━━━━━━━━━\u001b[0m\u001b[37m\u001b[0m \u001b[1m0s\u001b[0m 4ms/step - accuracy: 0.8651 - loss: 0.3768 - val_accuracy: 0.9003 - val_loss: 0.3000\n",
            "Epoch 5/20\n",
            "\u001b[1m49/49\u001b[0m \u001b[32m━━━━━━━━━━━━━━━━━━━━\u001b[0m\u001b[37m\u001b[0m \u001b[1m0s\u001b[0m 4ms/step - accuracy: 0.9325 - loss: 0.2920 - val_accuracy: 0.9872 - val_loss: 0.2374\n",
            "Epoch 6/20\n",
            "\u001b[1m49/49\u001b[0m \u001b[32m━━━━━━━━━━━━━━━━━━━━\u001b[0m\u001b[37m\u001b[0m \u001b[1m0s\u001b[0m 4ms/step - accuracy: 0.9756 - loss: 0.2343 - val_accuracy: 0.9923 - val_loss: 0.1859\n",
            "Epoch 7/20\n",
            "\u001b[1m49/49\u001b[0m \u001b[32m━━━━━━━━━━━━━━━━━━━━\u001b[0m\u001b[37m\u001b[0m \u001b[1m0s\u001b[0m 5ms/step - accuracy: 0.9906 - loss: 0.1872 - val_accuracy: 0.9872 - val_loss: 0.1486\n",
            "Epoch 8/20\n",
            "\u001b[1m49/49\u001b[0m \u001b[32m━━━━━━━━━━━━━━━━━━━━\u001b[0m\u001b[37m\u001b[0m \u001b[1m0s\u001b[0m 4ms/step - accuracy: 0.9914 - loss: 0.1517 - val_accuracy: 0.9872 - val_loss: 0.1221\n",
            "Epoch 9/20\n",
            "\u001b[1m49/49\u001b[0m \u001b[32m━━━━━━━━━━━━━━━━━━━━\u001b[0m\u001b[37m\u001b[0m \u001b[1m0s\u001b[0m 4ms/step - accuracy: 0.9904 - loss: 0.1271 - val_accuracy: 0.9872 - val_loss: 0.1010\n",
            "Epoch 10/20\n",
            "\u001b[1m49/49\u001b[0m \u001b[32m━━━━━━━━━━━━━━━━━━━━\u001b[0m\u001b[37m\u001b[0m \u001b[1m0s\u001b[0m 4ms/step - accuracy: 0.9943 - loss: 0.0984 - val_accuracy: 0.9949 - val_loss: 0.0864\n",
            "Epoch 11/20\n",
            "\u001b[1m49/49\u001b[0m \u001b[32m━━━━━━━━━━━━━━━━━━━━\u001b[0m\u001b[37m\u001b[0m \u001b[1m0s\u001b[0m 4ms/step - accuracy: 0.9945 - loss: 0.0862 - val_accuracy: 0.9898 - val_loss: 0.0738\n",
            "Epoch 12/20\n",
            "\u001b[1m49/49\u001b[0m \u001b[32m━━━━━━━━━━━━━━━━━━━━\u001b[0m\u001b[37m\u001b[0m \u001b[1m0s\u001b[0m 4ms/step - accuracy: 0.9973 - loss: 0.0704 - val_accuracy: 0.9949 - val_loss: 0.0652\n",
            "Epoch 13/20\n",
            "\u001b[1m49/49\u001b[0m \u001b[32m━━━━━━━━━━━━━━━━━━━━\u001b[0m\u001b[37m\u001b[0m \u001b[1m0s\u001b[0m 4ms/step - accuracy: 0.9966 - loss: 0.0661 - val_accuracy: 0.9949 - val_loss: 0.0573\n",
            "Epoch 14/20\n",
            "\u001b[1m49/49\u001b[0m \u001b[32m━━━━━━━━━━━━━━━━━━━━\u001b[0m\u001b[37m\u001b[0m \u001b[1m0s\u001b[0m 4ms/step - accuracy: 0.9956 - loss: 0.0516 - val_accuracy: 0.9872 - val_loss: 0.0558\n",
            "Epoch 15/20\n",
            "\u001b[1m49/49\u001b[0m \u001b[32m━━━━━━━━━━━━━━━━━━━━\u001b[0m\u001b[37m\u001b[0m \u001b[1m0s\u001b[0m 4ms/step - accuracy: 0.9891 - loss: 0.0625 - val_accuracy: 0.9898 - val_loss: 0.0469\n",
            "Epoch 16/20\n",
            "\u001b[1m49/49\u001b[0m \u001b[32m━━━━━━━━━━━━━━━━━━━━\u001b[0m\u001b[37m\u001b[0m \u001b[1m0s\u001b[0m 4ms/step - accuracy: 0.9958 - loss: 0.0469 - val_accuracy: 0.9898 - val_loss: 0.0442\n",
            "Epoch 17/20\n",
            "\u001b[1m49/49\u001b[0m \u001b[32m━━━━━━━━━━━━━━━━━━━━\u001b[0m\u001b[37m\u001b[0m \u001b[1m0s\u001b[0m 4ms/step - accuracy: 0.9954 - loss: 0.0413 - val_accuracy: 0.9949 - val_loss: 0.0400\n",
            "Epoch 18/20\n",
            "\u001b[1m49/49\u001b[0m \u001b[32m━━━━━━━━━━━━━━━━━━━━\u001b[0m\u001b[37m\u001b[0m \u001b[1m0s\u001b[0m 4ms/step - accuracy: 0.9952 - loss: 0.0424 - val_accuracy: 0.9898 - val_loss: 0.0376\n",
            "Epoch 19/20\n",
            "\u001b[1m49/49\u001b[0m \u001b[32m━━━━━━━━━━━━━━━━━━━━\u001b[0m\u001b[37m\u001b[0m \u001b[1m0s\u001b[0m 4ms/step - accuracy: 0.9920 - loss: 0.0367 - val_accuracy: 0.9949 - val_loss: 0.0331\n",
            "Epoch 20/20\n",
            "\u001b[1m49/49\u001b[0m \u001b[32m━━━━━━━━━━━━━━━━━━━━\u001b[0m\u001b[37m\u001b[0m \u001b[1m0s\u001b[0m 4ms/step - accuracy: 0.9925 - loss: 0.0352 - val_accuracy: 0.9949 - val_loss: 0.0307\n",
            "\u001b[1m13/13\u001b[0m \u001b[32m━━━━━━━━━━━━━━━━━━━━\u001b[0m\u001b[37m\u001b[0m \u001b[1m0s\u001b[0m 11ms/step\n",
            "Validation F1-Score: 0.991, Accuracy: 0.995\n",
            "Best hyperparameters: {'learning_rate': 0.001, 'batch_size': 32, 'dropout_rate': 0.2}\n",
            "Best Validation F1-Score: 0.991\n"
          ]
        }
      ]
    },
    {
      "cell_type": "markdown",
      "source": [
        "## Implementation Breakdown\n",
        "- **Combinations:** *The four combinations test different variants of hyperparameters ( default, slower learning, larger batch, larger dropout ), aiming at balancing both the exploration and efficiency aspects of our model's functionality.*\n",
        "- **Early Stop:** *Does so by monitoring the validation loss ( which is correlated to our F1-score ), doing so the model gains efficiency and prevents overfitting.*\n",
        "- **F1-Score:** *Computed during post-training ( TensorFlow doesn’t directly support F1-score as a metric ). We leverage scikit-learn’s f1_score.*\n",
        "- **Efficiency:** *Each model trains for approx. 5–10 minutes ( depending on the number of epochs ), resulting in around 20–40 minutes in total, and should fit within Colab’s runtime limits.*"
      ],
      "metadata": {
        "id": "IvBye5OsSQAM"
      }
    },
    {
      "cell_type": "markdown",
      "source": [
        "## Step 7: Threshold Optimization\n",
        "### The plan is to adjust the classification threshold and maximize the validation of our F1-score\n",
        "1. *The ANN outputs probabilities (between 0 & 1), and we use a default threshold of 0.5 to classify (border value for deciding whether the essay is AI or Human generated). Moreover, optimizing and adjusting our threshold can improve F1-score by balancing precision and recall.*\n",
        "2. *To successfully do so, we test different thresholds on the validation set to find the one which maximizes our F1-score.*"
      ],
      "metadata": {
        "id": "yfHwgsg5Smlw"
      }
    },
    {
      "cell_type": "code",
      "source": [
        "# Optimize the threshold of F1-score\n",
        "def optimize_threshold(model, X, y):\n",
        "    y_pred_proba = model.predict(X)\n",
        "    thresholds = np.arange(0.3, 0.8, 0.1)\n",
        "    best_f1 = 0\n",
        "    best_threshold = 0.5\n",
        "\n",
        "    for threshold in thresholds:\n",
        "        y_pred = (y_pred_proba > threshold).astype(int)\n",
        "        f1 = f1_score(y, y_pred)\n",
        "        if f1 > best_f1:\n",
        "            best_f1 = f1\n",
        "            best_threshold = threshold\n",
        "\n",
        "    return best_threshold, best_f1\n",
        "\n",
        "# Apply to model that maximizes the F1-score\n",
        "best_threshold, final_f1 = optimize_threshold(best_model, X_val, y_val)\n",
        "final_acc = accuracy_score(y_val, (best_model.predict(X_val) > best_threshold).astype(int))\n",
        "print(f\"Best Threshold: {best_threshold:.2f}\")\n",
        "print(f\"Final Validation F1-Score: {final_f1:.3f}, Accuracy: {final_acc:.3f}\")"
      ],
      "metadata": {
        "colab": {
          "base_uri": "https://localhost:8080/"
        },
        "id": "SNiw0RJeSgjG",
        "outputId": "8061ae1f-066b-47dc-babc-11ae575c742e"
      },
      "execution_count": null,
      "outputs": [
        {
          "output_type": "stream",
          "name": "stdout",
          "text": [
            "\u001b[1m13/13\u001b[0m \u001b[32m━━━━━━━━━━━━━━━━━━━━\u001b[0m\u001b[37m\u001b[0m \u001b[1m0s\u001b[0m 3ms/step \n",
            "\u001b[1m13/13\u001b[0m \u001b[32m━━━━━━━━━━━━━━━━━━━━\u001b[0m\u001b[37m\u001b[0m \u001b[1m0s\u001b[0m 3ms/step \n",
            "Best Threshold: 0.70\n",
            "Final Validation F1-Score: 0.996, Accuracy: 0.997\n"
          ]
        }
      ]
    },
    {
      "cell_type": "markdown",
      "source": [
        "## Implementation Breakdown\n",
        "- **Threshold Range:** *0.3 to 0.7 covers likely optimal points, as extreme thresholds (e.g., 0.9) skew precision or recall.*\n",
        "- **F1-Score Focus:** *Maximizing F1-score aligns with our primary metric, improving detection of LLM-generated essays.*\n",
        "- **Efficiency:** *Threshold optimization is fast (~seconds), as it uses existing predictions.*"
      ],
      "metadata": {
        "id": "tAqFLa6RS6K-"
      }
    }
  ]
}